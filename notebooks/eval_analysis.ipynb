{
 "cells": [
  {
   "cell_type": "code",
   "execution_count": 1,
   "id": "e55a9306",
   "metadata": {},
   "outputs": [],
   "source": [
    "from src.utils import read_json\n",
    "\n",
    "eval_hint = read_json(\"results/unsloth__Qwen3-4B/eval_hint_100.json\")\n",
    "eval_no_hint = read_json(\"results/unsloth__Qwen3-4B/eval_100.json\")"
   ]
  },
  {
   "cell_type": "code",
   "execution_count": null,
   "id": "aaf04a09",
   "metadata": {},
   "outputs": [
    {
     "name": "stdout",
     "output_type": "stream",
     "text": [
      "eval_hint 76 76 100\n",
      "eval_no_hint 71 71 100\n"
     ]
    }
   ],
   "source": [
    "import re\n",
    "def extract_final_number(answer) -> str:\n",
    "    \"\"\"Extract the final numeric answer from a string.\"\"\"\n",
    "    # Look for #### format first\n",
    "    match = re.search(r'\\\\boxed\\{([^}]*)\\}', answer)\n",
    "    if match:\n",
    "        return match.group(1).strip()\n",
    "    else:\n",
    "        match = re.search(r'\\\\boxed\\{([^}]*)\\}', answer)\n",
    "        if match:\n",
    "            return match.group(1).strip()\n",
    "\n",
    "    return None\n",
    "\n",
    "def parse_eval(eval_results):\n",
    "    for r in eval_results:\n",
    "        r['ends_think'] = \"</think>\" in r['output']\n",
    "        r[\"parsed_answer\"] = extract_final_number(r['output'])\n",
    "        r[\"contains_boxed\"] = \"\\\\boxed{\" in r['output']\n",
    "        r[\"is_correct\"] = (float(r['parsed_answer']) == float(r['answer'])) if r['parsed_answer'] is not None else False\n",
    "        r['is_answered'] = r['parsed_answer'] is not None\n",
    "    return eval_results\n",
    "\n",
    "eval_hint = parse_eval(eval_hint)\n",
    "eval_no_hint = parse_eval(eval_no_hint)\n",
    "\n",
    "print('eval_hint', sum([x['is_correct'] for x in eval_hint]), sum([x['is_answered'] for x in eval_hint]), len(eval_hint))\n",
    "print('eval_no_hint', sum([x['is_correct'] for x in eval_no_hint]), sum([x['is_answered'] for x in eval_no_hint]), len(eval_no_hint))"
   ]
  },
  {
   "cell_type": "code",
   "execution_count": null,
   "id": "58a53c0d",
   "metadata": {},
   "outputs": [],
   "source": []
  }
 ],
 "metadata": {
  "kernelspec": {
   "display_name": "em-explorations",
   "language": "python",
   "name": "python3"
  },
  "language_info": {
   "codemirror_mode": {
    "name": "ipython",
    "version": 3
   },
   "file_extension": ".py",
   "mimetype": "text/x-python",
   "name": "python",
   "nbconvert_exporter": "python",
   "pygments_lexer": "ipython3",
   "version": "3.12.3"
  }
 },
 "nbformat": 4,
 "nbformat_minor": 5
}
