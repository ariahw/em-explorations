{
 "cells": [
  {
   "cell_type": "code",
   "execution_count": 9,
   "id": "e55a9306",
   "metadata": {},
   "outputs": [],
   "source": [
    "from src.utils import read_json\n",
    "\n",
    "model_id = \"unsloth/Meta-Llama-3.1-8B-Instruct\"\n",
    "output_dir = f\"results/{model_id.replace('/', '__')}\"\n",
    "n_samples = 1000\n",
    "\n",
    "eval_hint = read_json(f\"{output_dir}/eval_hint_{n_samples}.json\")\n",
    "eval_no_hint = read_json(f\"{output_dir}/eval_{n_samples}.json\")"
   ]
  },
  {
   "cell_type": "code",
   "execution_count": 10,
   "id": "aaf04a09",
   "metadata": {},
   "outputs": [
    {
     "name": "stdout",
     "output_type": "stream",
     "text": [
      "eval_hint 521 746 1000\n",
      "eval_no_hint 528 789 1000\n"
     ]
    }
   ],
   "source": [
    "import re\n",
    "def extract_final_number(answer) -> str:\n",
    "    \"\"\"Extract the final numeric answer from a string.\"\"\"\n",
    "    # Look for #### format first\n",
    "    match = re.search(r'\\\\boxed\\{([^}]*)\\}', answer)\n",
    "    if match:\n",
    "        return match.group(1).strip()\n",
    "    else:\n",
    "        match = re.search(r'\\\\boxed\\{([^}]*)\\}', answer)\n",
    "        if match:\n",
    "            return match.group(1).strip()\n",
    "\n",
    "    return None\n",
    "\n",
    "def check_eq(a, b):\n",
    "    try:\n",
    "        return float(a) == float(b)\n",
    "    except:\n",
    "        return False\n",
    "\n",
    "def parse_eval(eval_results):\n",
    "    for r in eval_results:\n",
    "        r['ends_think'] = \"</think>\" in r['output']\n",
    "        r[\"parsed_answer\"] = extract_final_number(r['output'])\n",
    "        r[\"contains_boxed\"] = \"\\\\boxed{\" in r['output']\n",
    "        r[\"is_correct\"] = check_eq(r['parsed_answer'], r['answer'])\n",
    "        r['is_answered'] = r['parsed_answer'] is not None\n",
    "    return eval_results\n",
    "\n",
    "eval_hint = parse_eval(eval_hint)\n",
    "eval_no_hint = parse_eval(eval_no_hint)\n",
    "\n",
    "print('eval_hint', sum([x['is_correct'] for x in eval_hint]), sum([x['is_answered'] for x in eval_hint]), len(eval_hint))\n",
    "print('eval_no_hint', sum([x['is_correct'] for x in eval_no_hint]), sum([x['is_answered'] for x in eval_no_hint]), len(eval_no_hint))"
   ]
  },
  {
   "cell_type": "code",
   "execution_count": null,
   "id": "58a53c0d",
   "metadata": {},
   "outputs": [],
   "source": []
  }
 ],
 "metadata": {
  "kernelspec": {
   "display_name": ".venv",
   "language": "python",
   "name": "python3"
  },
  "language_info": {
   "codemirror_mode": {
    "name": "ipython",
    "version": 3
   },
   "file_extension": ".py",
   "mimetype": "text/x-python",
   "name": "python",
   "nbconvert_exporter": "python",
   "pygments_lexer": "ipython3",
   "version": "3.12.3"
  }
 },
 "nbformat": 4,
 "nbformat_minor": 5
}
